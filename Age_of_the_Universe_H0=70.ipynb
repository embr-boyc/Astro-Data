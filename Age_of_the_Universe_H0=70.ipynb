{
  "nbformat": 4,
  "nbformat_minor": 0,
  "metadata": {
    "colab": {
      "provenance": [],
      "authorship_tag": "ABX9TyMklUSSRct4BxMWaIB4phyw",
      "include_colab_link": true
    },
    "kernelspec": {
      "name": "python3",
      "display_name": "Python 3"
    },
    "language_info": {
      "name": "python"
    }
  },
  "cells": [
    {
      "cell_type": "markdown",
      "metadata": {
        "id": "view-in-github",
        "colab_type": "text"
      },
      "source": [
        "<a href=\"https://colab.research.google.com/github/embr-boyc/Astro-Data/blob/main/Age_of_the_Universe_H0%3D70.ipynb\" target=\"_parent\"><img src=\"https://colab.research.google.com/assets/colab-badge.svg\" alt=\"Open In Colab\"/></a>"
      ]
    },
    {
      "cell_type": "code",
      "source": [
        "import astropy.units as u # Importing astronomy units package\n",
        "import astropy.constants as ac # Importing astronomy constants package (such as G=9.8 m/s**2)\n",
        "import numpy as np"
      ],
      "metadata": {
        "id": "GHLG1VLCDMoH"
      },
      "execution_count": null,
      "outputs": []
    },
    {
      "cell_type": "code",
      "source": [
        "H0 = 70 # Hubble constant\n",
        "Mpc_in_km = 3.086e22 # Megaparsec in kilometers\n",
        "seconds_in_year = 3.154e7 # Seconds in a year"
      ],
      "metadata": {
        "id": "Hf6A0RYJ_BPI"
      },
      "execution_count": null,
      "outputs": []
    },
    {
      "cell_type": "code",
      "source": [
        "H0_per_s = H0 / Mpc_in_km # Calculating Hubble constant to 1/s\n",
        "print (H0_per_s / u.s)"
      ],
      "metadata": {
        "colab": {
          "base_uri": "https://localhost:8080/"
        },
        "id": "lqCxdCwNBKTB",
        "outputId": "f7c46680-b7ee-458d-a7dc-791ae9046f11"
      },
      "execution_count": null,
      "outputs": [
        {
          "output_type": "stream",
          "name": "stdout",
          "text": [
            "2.268308489954634e-21 1 / s\n"
          ]
        }
      ]
    },
    {
      "cell_type": "code",
      "source": [
        "age_in_seconds = 1 / H0_per_s # Calculating age in seconds\n",
        "print (age_in_seconds * u.s)"
      ],
      "metadata": {
        "colab": {
          "base_uri": "https://localhost:8080/"
        },
        "id": "RmzJdLtYBnJI",
        "outputId": "a0f17260-b3fd-48d7-899b-220c31ec96dd"
      },
      "execution_count": null,
      "outputs": [
        {
          "output_type": "stream",
          "name": "stdout",
          "text": [
            "4.408571428571428e+20 s\n"
          ]
        }
      ]
    },
    {
      "cell_type": "code",
      "source": [
        "age_in_years = age_in_seconds / seconds_in_year # Calculating age in years\n",
        "print (age_in_years * u.year)"
      ],
      "metadata": {
        "colab": {
          "base_uri": "https://localhost:8080/"
        },
        "id": "WH1hhcJKBrXM",
        "outputId": "bae995df-8547-468b-eb83-15e40e550b7b"
      },
      "execution_count": null,
      "outputs": [
        {
          "output_type": "stream",
          "name": "stdout",
          "text": [
            "13977715372769.271 yr\n"
          ]
        }
      ]
    }
  ]
}