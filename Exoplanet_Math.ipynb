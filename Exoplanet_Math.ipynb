{
  "nbformat": 4,
  "nbformat_minor": 0,
  "metadata": {
    "colab": {
      "provenance": [],
      "authorship_tag": "ABX9TyMUnJyDIKnBlRd0MHcWemny",
      "include_colab_link": true
    },
    "kernelspec": {
      "name": "python3",
      "display_name": "Python 3"
    },
    "language_info": {
      "name": "python"
    }
  },
  "cells": [
    {
      "cell_type": "markdown",
      "metadata": {
        "id": "view-in-github",
        "colab_type": "text"
      },
      "source": [
        "<a href=\"https://colab.research.google.com/github/embr-boyc/Astro-Data/blob/main/Exoplanet_Math.ipynb\" target=\"_parent\"><img src=\"https://colab.research.google.com/assets/colab-badge.svg\" alt=\"Open In Colab\"/></a>"
      ]
    },
    {
      "cell_type": "markdown",
      "source": [
        "Age, life, chemical composition -> life, mass & size -> structure"
      ],
      "metadata": {
        "id": "-sH9v1Ty4cNE"
      }
    },
    {
      "cell_type": "markdown",
      "source": [
        "$\\delta = (\\frac{R_{planet}}{R_{star}})^2$, to solve for $R_{planet}$, $R_{planet} = \\sqrt\\delta \\times R_{star}$"
      ],
      "metadata": {
        "id": "B__khQcy5pwX"
      }
    },
    {
      "cell_type": "code",
      "source": [
        "import astropy.units as u\n",
        "import astropy.constants as c\n",
        "import numpy as np"
      ],
      "metadata": {
        "id": "JL2M7ivi4vo7"
      },
      "execution_count": 1,
      "outputs": []
    },
    {
      "cell_type": "code",
      "source": [
        "delta_earth_sun = (u.earthRad / u.solRad)**2 #Earth's radius devided by the Suns's radius\n",
        "print(delta_earth_sun.decompose())"
      ],
      "metadata": {
        "colab": {
          "base_uri": "https://localhost:8080/"
        },
        "id": "tH9Thd9W6AQM",
        "outputId": "ef547a2b-cbef-40c2-e484-a6c904756c34"
      },
      "execution_count": 2,
      "outputs": [
        {
          "output_type": "stream",
          "name": "stdout",
          "text": [
            "8.40502e-05\n"
          ]
        }
      ]
    },
    {
      "cell_type": "code",
      "source": [
        "delta_jupiter_sun = (u.jupiterRad / u.solRad)**2 #Calculating the ratio of Jupiter's radius to the Sun's radius\n",
        "print(delta_jupiter_sun.decompose())"
      ],
      "metadata": {
        "colab": {
          "base_uri": "https://localhost:8080/"
        },
        "id": "Fkn829uz6fgn",
        "outputId": "f5f0e19e-f79b-4840-b50c-bec8064364cb"
      },
      "execution_count": 3,
      "outputs": [
        {
          "output_type": "stream",
          "name": "stdout",
          "text": [
            "0.0105602\n"
          ]
        }
      ]
    },
    {
      "cell_type": "markdown",
      "source": [
        "$v_{orb} = \\sqrt\\frac{GM}{a}$"
      ],
      "metadata": {
        "id": "mUwKtMUR7u33"
      }
    },
    {
      "cell_type": "code",
      "source": [
        "v_orb_earth= np.sqrt(c.G * u.solMass / u.AU) #Orbital velocity of the Earth around the Sun\n",
        "print(v_orb_earth.to(u.m / u.s))"
      ],
      "metadata": {
        "colab": {
          "base_uri": "https://localhost:8080/"
        },
        "id": "ck1t4PnU6WnG",
        "outputId": "183d27a8-c027-4d0c-e3d0-25b7e5ddc238"
      },
      "execution_count": 4,
      "outputs": [
        {
          "output_type": "stream",
          "name": "stdout",
          "text": [
            "29784.691829676933 m / s\n"
          ]
        }
      ]
    },
    {
      "cell_type": "markdown",
      "source": [
        "Since $m_p v_p = m_s v_s$, $v_s = \\frac{m_p}{m_s} \\times v_p$"
      ],
      "metadata": {
        "id": "2drQ3zso9LCa"
      }
    },
    {
      "cell_type": "code",
      "source": [
        "v_sun = u.earthMass / u.solMass * v_orb_earth #Velocity of the Sun around the Earth\n",
        "print(v_sun.to(u.m / u.s))"
      ],
      "metadata": {
        "colab": {
          "base_uri": "https://localhost:8080/"
        },
        "id": "K1ymSdS19KPH",
        "outputId": "4d09a9cf-9a6d-43ba-e2eb-f6b09b277e77"
      },
      "execution_count": 5,
      "outputs": [
        {
          "output_type": "stream",
          "name": "stdout",
          "text": [
            "0.08945800466923791 m / s\n"
          ]
        }
      ]
    },
    {
      "cell_type": "markdown",
      "source": [
        "$v_s = 0.09\\ m/s (\\frac{m_p}{m_\\oplus})(\\frac{P}{1 yr})^{-1/3}$"
      ],
      "metadata": {
        "id": "XpEGFsBKBffm"
      }
    },
    {
      "cell_type": "code",
      "source": [
        "v_s_jupiter = 0.09 * u.m / u.s * (u.jupiterMass / u.earthMass) * (11.9 * u.yr /  u.yr)**(-1.0/3.0) #Radial velocity signal of\n",
        "print(v_s_jupiter.to(u.m / u.s))"
      ],
      "metadata": {
        "colab": {
          "base_uri": "https://localhost:8080/"
        },
        "id": "h4WHFy-M-FJ_",
        "outputId": "197e2f62-2a9d-41c0-d122-c5a35e87cef1"
      },
      "execution_count": 6,
      "outputs": [
        {
          "output_type": "stream",
          "name": "stdout",
          "text": [
            "12.529091077198903 m / s\n"
          ]
        }
      ]
    },
    {
      "cell_type": "code",
      "source": [
        "(u.jupiterMass / u.earthMass).decompose() #Jupiter is 317.8 times more massive than Earth"
      ],
      "metadata": {
        "colab": {
          "base_uri": "https://localhost:8080/",
          "height": 37
        },
        "id": "phVtOimGChbD",
        "outputId": "5a6b348a-4454-4e9d-f40f-0798f0d77e69"
      },
      "execution_count": 7,
      "outputs": [
        {
          "output_type": "execute_result",
          "data": {
            "text/plain": [
              "Unit(dimensionless with a scale of 317.8284065946748)"
            ],
            "text/latex": "$\\mathrm{317.82841}$"
          },
          "metadata": {},
          "execution_count": 7
        }
      ]
    },
    {
      "cell_type": "code",
      "source": [
        "rho_earth = u.earthMass / (4 * np.pi * u.earthRad**3 / 3.0) #Calculate the square of the ratio of the radius of Earth and Jupiter to the radius of the Sun\n",
        "print(rho_earth.to(u.g / u.cm**3))"
      ],
      "metadata": {
        "colab": {
          "base_uri": "https://localhost:8080/"
        },
        "id": "LSMhoA21C9_f",
        "outputId": "eb5a3094-8edd-431c-e589-8d4283e91614"
      },
      "execution_count": 8,
      "outputs": [
        {
          "output_type": "stream",
          "name": "stdout",
          "text": [
            "5.495021865555213 g / cm3\n"
          ]
        }
      ]
    }
  ]
}