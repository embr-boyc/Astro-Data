{
  "nbformat": 4,
  "nbformat_minor": 0,
  "metadata": {
    "colab": {
      "provenance": [],
      "authorship_tag": "ABX9TyPk8LLwk/saNlIkQW8gseqR",
      "include_colab_link": true
    },
    "kernelspec": {
      "name": "python3",
      "display_name": "Python 3"
    },
    "language_info": {
      "name": "python"
    }
  },
  "cells": [
    {
      "cell_type": "markdown",
      "metadata": {
        "id": "view-in-github",
        "colab_type": "text"
      },
      "source": [
        "<a href=\"https://colab.research.google.com/github/embr-boyc/Astro-Data/blob/main/OV_of_Earth_around_Sun.ipynb\" target=\"_parent\"><img src=\"https://colab.research.google.com/assets/colab-badge.svg\" alt=\"Open In Colab\"/></a>"
      ]
    },
    {
      "cell_type": "markdown",
      "source": [
        "$V = \\sqrt\\frac{GM}{R}$, this is the equation that we use to calculate orbital velocity."
      ],
      "metadata": {
        "id": "vAJzdyUc4GQ6"
      }
    },
    {
      "cell_type": "code",
      "source": [
        "import astropy.constants as const # import a Python package to call the value of certian constants.\n",
        "import astropy.units as u # import a Python package to call certian units, e.g., mass of the Sun."
      ],
      "metadata": {
        "id": "PWiYBpWI5CyX"
      },
      "execution_count": null,
      "outputs": []
    },
    {
      "cell_type": "code",
      "source": [
        "M = 1 * u.solMass # define M as a physical quantity with a value and a unit.\n",
        "print(M.to(u.kg)) # print out M in units of kilogram."
      ],
      "metadata": {
        "colab": {
          "base_uri": "https://localhost:8080/"
        },
        "id": "AHBi7NTa5mzl",
        "outputId": "19bb1fc8-6185-4b26-8398-25c1dfab4278"
      },
      "execution_count": null,
      "outputs": [
        {
          "output_type": "stream",
          "name": "stdout",
          "text": [
            "1.988409870698051e+30 kg\n"
          ]
        }
      ]
    },
    {
      "cell_type": "code",
      "source": [
        "R = 1 * u.au # define R as the radius of the earth's orbit around the Sun in a astronomical unit.\n",
        "print(R.to(u.km)) # print out the radius of the Earth's orbit."
      ],
      "metadata": {
        "colab": {
          "base_uri": "https://localhost:8080/"
        },
        "id": "pt_QUuhs64Gr",
        "outputId": "f1e15ef0-9f57-48af-bfef-1720f88142f9"
      },
      "execution_count": null,
      "outputs": [
        {
          "output_type": "stream",
          "name": "stdout",
          "text": [
            "149597870.7 km\n"
          ]
        }
      ]
    },
    {
      "cell_type": "code",
      "source": [
        "G = const.G # define G as the gravitational constant.\n",
        "print(G.si) # print out G in S.I. units."
      ],
      "metadata": {
        "colab": {
          "base_uri": "https://localhost:8080/"
        },
        "id": "r5qgtrm18VRa",
        "outputId": "d1895a78-7957-4262-aa9c-0f1ae01df3d4"
      },
      "execution_count": null,
      "outputs": [
        {
          "output_type": "stream",
          "name": "stdout",
          "text": [
            "  Name   = Gravitational constant\n",
            "  Value  = 6.6743e-11\n",
            "  Uncertainty  = 1.5e-15\n",
            "  Unit  = m3 / (kg s2)\n",
            "  Reference = CODATA 2018\n"
          ]
        }
      ]
    },
    {
      "cell_type": "code",
      "source": [
        "import numpy as np # import numpy package which allows us to conduct mathmatical operations for the defined quantities."
      ],
      "metadata": {
        "id": "qib4tcE18slo"
      },
      "execution_count": null,
      "outputs": []
    },
    {
      "cell_type": "code",
      "source": [
        "V = np.sqrt(G * M / R) # Calculating orbital velocity based on the equation at the beginning.\n",
        "print(V.to(u.km / u.s)) # print out orbital velocity of the Earth around the Sun."
      ],
      "metadata": {
        "colab": {
          "base_uri": "https://localhost:8080/"
        },
        "id": "EJSIMKQn8yPF",
        "outputId": "4307df61-2b41-489f-a834-c7e2bc9d7475"
      },
      "execution_count": null,
      "outputs": [
        {
          "output_type": "stream",
          "name": "stdout",
          "text": [
            "29.784691829676934 km / s\n"
          ]
        }
      ]
    },
    {
      "cell_type": "code",
      "source": [
        "R_jupiter = 5.2 * u.au # this is the orbital radius of Jupiter."
      ],
      "metadata": {
        "id": "3mrpvvkc9D8p"
      },
      "execution_count": null,
      "outputs": []
    },
    {
      "cell_type": "code",
      "source": [
        "V_jupiter = np.sqrt(G * M / R_jupiter) # Calculating orbital velocity based on the equation at the beginning.\n",
        "print(V_jupiter.to(u.km / u.s)) # print out orbital velocity of Jupiter around the Sun."
      ],
      "metadata": {
        "colab": {
          "base_uri": "https://localhost:8080/"
        },
        "id": "BlsmDBQK_1mT",
        "outputId": "436df232-93c3-4542-f04e-d55aff7cfd2e"
      },
      "execution_count": null,
      "outputs": [
        {
          "output_type": "stream",
          "name": "stdout",
          "text": [
            "13.061451410903354 km / s\n"
          ]
        }
      ]
    }
  ]
}