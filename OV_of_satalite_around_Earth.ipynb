{
  "nbformat": 4,
  "nbformat_minor": 0,
  "metadata": {
    "colab": {
      "provenance": [],
      "authorship_tag": "ABX9TyMDLtks+jDHHTJYDCNDGW/1",
      "include_colab_link": true
    },
    "kernelspec": {
      "name": "python3",
      "display_name": "Python 3"
    },
    "language_info": {
      "name": "python"
    }
  },
  "cells": [
    {
      "cell_type": "markdown",
      "metadata": {
        "id": "view-in-github",
        "colab_type": "text"
      },
      "source": [
        "<a href=\"https://colab.research.google.com/github/embr-boyc/Astro-Data/blob/main/OV_of_satalite_around_Earth.ipynb\" target=\"_parent\"><img src=\"https://colab.research.google.com/assets/colab-badge.svg\" alt=\"Open In Colab\"/></a>"
      ]
    },
    {
      "cell_type": "markdown",
      "source": [
        "$V = \\sqrt\\frac{GM}{R}$, this is the equation that we use to calculate orbital velocity."
      ],
      "metadata": {
        "id": "vAJzdyUc4GQ6"
      }
    },
    {
      "cell_type": "code",
      "source": [
        "import astropy.constants as const # import a Python package to call the value of certian constants.\n",
        "import astropy.units as u # import a Python package to call certian units, e.g., mass of the Sun."
      ],
      "metadata": {
        "id": "PWiYBpWI5CyX"
      },
      "execution_count": null,
      "outputs": []
    },
    {
      "cell_type": "code",
      "source": [
        "M = 1 * u.M_earth # define M as a physical quantity with a value and a unit.\n",
        "print(M.to(u.kg)) # print out M in units of kilogram."
      ],
      "metadata": {
        "colab": {
          "base_uri": "https://localhost:8080/"
        },
        "id": "AHBi7NTa5mzl",
        "outputId": "c3d2c32c-2e80-4421-ac87-ba98f3460e1e"
      },
      "execution_count": null,
      "outputs": [
        {
          "output_type": "stream",
          "name": "stdout",
          "text": [
            "5.972167867791379e+24 kg\n"
          ]
        }
      ]
    },
    {
      "cell_type": "code",
      "source": [
        "R = 6.6846e-6 * u.au # define R as the radius of the satalite's orbit around the Earth in a astronomical unit.\n",
        "print(R.to(u.km)) # print out the radius of the satalite's orbit."
      ],
      "metadata": {
        "colab": {
          "base_uri": "https://localhost:8080/"
        },
        "id": "pt_QUuhs64Gr",
        "outputId": "6f2aa0ca-9d06-4b65-cc30-f49631c06db4"
      },
      "execution_count": null,
      "outputs": [
        {
          "output_type": "stream",
          "name": "stdout",
          "text": [
            "1000.0019264812199 km\n"
          ]
        }
      ]
    },
    {
      "cell_type": "code",
      "source": [
        "G = const.G # define G as the gravitational constant.\n",
        "print(G.si) # print out G in S.I. units."
      ],
      "metadata": {
        "colab": {
          "base_uri": "https://localhost:8080/"
        },
        "id": "r5qgtrm18VRa",
        "outputId": "63f3d1eb-3361-4ab0-ae1d-51ec66003724"
      },
      "execution_count": null,
      "outputs": [
        {
          "output_type": "stream",
          "name": "stdout",
          "text": [
            "  Name   = Gravitational constant\n",
            "  Value  = 6.6743e-11\n",
            "  Uncertainty  = 1.5e-15\n",
            "  Unit  = m3 / (kg s2)\n",
            "  Reference = CODATA 2018\n"
          ]
        }
      ]
    },
    {
      "cell_type": "code",
      "source": [
        "import numpy as np # import numpy package which allows us to conduct mathmatical operations for the defined quantities."
      ],
      "metadata": {
        "id": "qib4tcE18slo"
      },
      "execution_count": null,
      "outputs": []
    },
    {
      "cell_type": "code",
      "source": [
        "V = np.sqrt(G * M / R) # Calculating orbital velocity based on the equation at the beginning.\n",
        "print(V.to(u.km / u.s)) # print out orbital velocity of the Earth around the Sun."
      ],
      "metadata": {
        "colab": {
          "base_uri": "https://localhost:8080/"
        },
        "id": "EJSIMKQn8yPF",
        "outputId": "59b4760f-ad4c-45b9-d5d7-589086b2c7c9"
      },
      "execution_count": null,
      "outputs": [
        {
          "output_type": "stream",
          "name": "stdout",
          "text": [
            "19.964960107781195 km / s\n"
          ]
        }
      ]
    }
  ]
}