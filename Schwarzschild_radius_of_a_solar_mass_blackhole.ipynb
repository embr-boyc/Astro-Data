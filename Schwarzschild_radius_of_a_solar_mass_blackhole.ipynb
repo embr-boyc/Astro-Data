{
  "nbformat": 4,
  "nbformat_minor": 0,
  "metadata": {
    "colab": {
      "provenance": [],
      "authorship_tag": "ABX9TyO7ZZqiK5h8wWS+zlIiotWp",
      "include_colab_link": true
    },
    "kernelspec": {
      "name": "python3",
      "display_name": "Python 3"
    },
    "language_info": {
      "name": "python"
    }
  },
  "cells": [
    {
      "cell_type": "markdown",
      "metadata": {
        "id": "view-in-github",
        "colab_type": "text"
      },
      "source": [
        "<a href=\"https://colab.research.google.com/github/embr-boyc/Astro-Data/blob/main/Schwarzschild_radius_of_a_solar_mass_blackhole.ipynb\" target=\"_parent\"><img src=\"https://colab.research.google.com/assets/colab-badge.svg\" alt=\"Open In Colab\"/></a>"
      ]
    },
    {
      "cell_type": "markdown",
      "source": [
        "$R = \\frac{GM}{V^2}$, this is the equation that we use to calculate orbital velocity."
      ],
      "metadata": {
        "id": "vAJzdyUc4GQ6"
      }
    },
    {
      "cell_type": "code",
      "source": [
        "import astropy.constants as const # import a Python package to call the value of certian constants.\n",
        "import astropy.units as u # import a Python package to call certian units, e.g., mass of the Sun."
      ],
      "metadata": {
        "id": "PWiYBpWI5CyX"
      },
      "execution_count": null,
      "outputs": []
    },
    {
      "cell_type": "code",
      "source": [
        "M = 1 * u.solMass # define M as a physical quantity with a value and a unit.\n",
        "print(M.to(u.kg)) # print out M in units of kilogram."
      ],
      "metadata": {
        "colab": {
          "base_uri": "https://localhost:8080/"
        },
        "id": "AHBi7NTa5mzl",
        "outputId": "33a37845-5737-4ecb-92aa-13a8cdaa2608"
      },
      "execution_count": null,
      "outputs": [
        {
          "output_type": "stream",
          "name": "stdout",
          "text": [
            "1.988409870698051e+30 kg\n"
          ]
        }
      ]
    },
    {
      "cell_type": "code",
      "source": [
        "G = const.G # define G as the gravitational constant.\n",
        "print(G.si) # print out G in S.I. units."
      ],
      "metadata": {
        "colab": {
          "base_uri": "https://localhost:8080/"
        },
        "id": "r5qgtrm18VRa",
        "outputId": "0954101a-3073-40cc-c10e-edd0fa7b1224"
      },
      "execution_count": null,
      "outputs": [
        {
          "output_type": "stream",
          "name": "stdout",
          "text": [
            "  Name   = Gravitational constant\n",
            "  Value  = 6.6743e-11\n",
            "  Uncertainty  = 1.5e-15\n",
            "  Unit  = m3 / (kg s2)\n",
            "  Reference = CODATA 2018\n"
          ]
        }
      ]
    },
    {
      "cell_type": "code",
      "source": [
        "V = const.c # define V as the speed of light.\n",
        "print(V.to(u.km / u.s)) # print out V in S.I. units."
      ],
      "metadata": {
        "colab": {
          "base_uri": "https://localhost:8080/"
        },
        "id": "v5Hmp5lcPhgo",
        "outputId": "75099822-7c2d-42b9-e622-be53b780238d"
      },
      "execution_count": null,
      "outputs": [
        {
          "output_type": "stream",
          "name": "stdout",
          "text": [
            "299792.458 km / s\n"
          ]
        }
      ]
    },
    {
      "cell_type": "code",
      "source": [
        "import numpy as np # import numpy package which allows us to conduct mathmatical operations for the defined quantities."
      ],
      "metadata": {
        "id": "qib4tcE18slo"
      },
      "execution_count": null,
      "outputs": []
    },
    {
      "cell_type": "code",
      "source": [
        "R = (G * M / V**2).to(u.km) # define R as the radius of the satalite's orbit around the Earth in a astronomical unit.\n",
        "print(R) # print out the radius of the satalite's orbit."
      ],
      "metadata": {
        "colab": {
          "base_uri": "https://localhost:8080/"
        },
        "outputId": "647b77f8-815c-4403-a298-16f2c58da012",
        "id": "5jZP87m_PZf6"
      },
      "execution_count": null,
      "outputs": [
        {
          "output_type": "stream",
          "name": "stdout",
          "text": [
            "1.476625038050125 km\n"
          ]
        }
      ]
    }
  ]
}